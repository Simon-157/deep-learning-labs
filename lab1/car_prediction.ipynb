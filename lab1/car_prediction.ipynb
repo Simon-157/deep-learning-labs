{
 "cells": [
  {
   "cell_type": "markdown",
   "metadata": {},
   "source": [
    "## Question 1"
   ]
  },
  {
   "cell_type": "code",
   "execution_count": null,
   "metadata": {},
   "outputs": [],
   "source": [
    "pip install --upgrade pandas"
   ]
  },
  {
   "cell_type": "code",
   "execution_count": null,
   "metadata": {},
   "outputs": [],
   "source": [
    "import pandas as pd\n",
    "import numpy as np\n",
    "import torch as tc\n",
    "import matplotlib.pyplot as plt\n",
    "import zipfile\n"
   ]
  },
  {
   "cell_type": "code",
   "execution_count": null,
   "metadata": {},
   "outputs": [],
   "source": [
    "# Extract the contents of the 'archive.zip' file into the 'extracts' directory\n",
    "with zipfile.ZipFile(\"archive.zip\", \"r\") as z:\n",
    "    z.extractall(\"extracts\")\n",
    "\n",
    "# Read the CSV file 'car_web_scraped_dataset.csv' into a pandas DataFrame\n",
    "car_dataframe = pd.read_csv(\"extracts/car_web_scraped_dataset.csv\")\n"
   ]
  },
  {
   "cell_type": "code",
   "execution_count": null,
   "metadata": {},
   "outputs": [],
   "source": [
    "car_dataframe.head(5)"
   ]
  },
  {
   "cell_type": "markdown",
   "metadata": {},
   "source": [
    "## Question 2"
   ]
  },
  {
   "cell_type": "markdown",
   "metadata": {},
   "source": [
    "- This is suitable for regression because in regression, the goal is to understand the relationship between one or more independent variables and the dependent(target) variable which in this case could be the price which is also a continuous numeric outcome. The given dataset includes a numeric target variable, \"price,\" and offers the opportunity to explore and quantify the relationships between various independent variables such as \"year,\" \"miles,\" \"color,\" and \"condition\" in predicting the car prices."
   ]
  },
  {
   "cell_type": "markdown",
   "metadata": {},
   "source": [
    "## Question 3"
   ]
  },
  {
   "cell_type": "markdown",
   "metadata": {},
   "source": [
    "<ol type=\"a\">\n",
    "  <li>\n",
    "  \n",
    "  </li>\n",
    " \n",
    " </br>\n",
    "  <li>Milk</li>\n",
    "</ol>"
   ]
  },
  {
   "cell_type": "code",
   "execution_count": null,
   "metadata": {},
   "outputs": [],
   "source": [
    "car_dataframe['price'].describe()"
   ]
  },
  {
   "cell_type": "code",
   "execution_count": null,
   "metadata": {},
   "outputs": [],
   "source": [
    "# Convert the 'price' column to numeric after removing any '$' and ',' characters\n",
    "car_dataframe['price'] = pd.to_numeric(car_dataframe['price'].replace('[\\$,]','', regex=True), errors='coerce')\n",
    "\n",
    "# Calculate the quartiles of the 'price' column\n",
    "quantiles = car_dataframe['price'].quantile(q=[0.25, 0.5, 0.75, 1])\n",
    "quantiles"
   ]
  },
  {
   "cell_type": "code",
   "execution_count": null,
   "metadata": {},
   "outputs": [],
   "source": [
    "quantiles=quantiles.to_numpy()"
   ]
  },
  {
   "cell_type": "code",
   "execution_count": null,
   "metadata": {},
   "outputs": [],
   "source": [
    "def group_price(price):\n",
    "    \"\"\"\n",
    "    Group the price into categories based on quantiles.\n",
    "    Args:\n",
    "    price (float): The price to be categorized.\n",
    "    Returns:\n",
    "    str: The category of the price.\n",
    "    \"\"\"\n",
    "    if(price <= quantiles[0]):\n",
    "        return 'cheap'\n",
    "    elif(quantiles[0] < price <= quantiles[1]):\n",
    "        return 'average'\n",
    "    elif(quantiles[1] < price <= quantiles[2]):\n",
    "        return 'expensive'\n",
    "    elif(price > quantiles[2]):\n",
    "        return 'very expensive'"
   ]
  },
  {
   "cell_type": "code",
   "execution_count": null,
   "metadata": {},
   "outputs": [],
   "source": [
    "car_dataframe['price_category'] = car_dataframe['price'].apply(group_price)"
   ]
  },
  {
   "cell_type": "code",
   "execution_count": null,
   "metadata": {},
   "outputs": [],
   "source": [
    "car_dataframe.head()"
   ]
  },
  {
   "cell_type": "code",
   "execution_count": null,
   "metadata": {},
   "outputs": [],
   "source": []
  },
  {
   "cell_type": "markdown",
   "metadata": {},
   "source": [
    "## Question 4"
   ]
  },
  {
   "cell_type": "code",
   "execution_count": null,
   "metadata": {},
   "outputs": [],
   "source": [
    "car_dataframe.dtypes"
   ]
  },
  {
   "cell_type": "code",
   "execution_count": null,
   "metadata": {},
   "outputs": [],
   "source": [
    "car_dataframe.dropna(inplace=True)"
   ]
  },
  {
   "cell_type": "code",
   "execution_count": null,
   "metadata": {},
   "outputs": [],
   "source": [
    "import pandas as pd\n",
    "\n",
    "# One-hot encode categorical columns\n",
    "car_dataframe = pd.get_dummies(car_dataframe, columns=['condition', 'color', 'price_category', 'name'], drop_first=True)\n",
    "\n",
    "# Convert 'miles' column to numeric, removing non-numeric characters\n",
    "car_dataframe['miles'] = pd.to_numeric(car_dataframe['miles'].replace('[\\D,]','', regex=True ), errors='coerce')\n",
    "car_dataframe.head()"
   ]
  },
  {
   "cell_type": "code",
   "execution_count": null,
   "metadata": {},
   "outputs": [],
   "source": [
    "# Convert the car_dataframe to float32 data type\n",
    "car_dataframe = car_dataframe.astype('float32')\n",
    "car_dataframe.head()"
   ]
  },
  {
   "cell_type": "code",
   "execution_count": null,
   "metadata": {},
   "outputs": [],
   "source": [
    "car_dataframe.dtypes"
   ]
  },
  {
   "cell_type": "code",
   "execution_count": null,
   "metadata": {},
   "outputs": [],
   "source": [
    "# Convert DataFrame columns to PyTorch tensors and  drop the price column as the labels\n",
    "inputs = tc.tensor(car_dataframe.drop('price', axis=1).values, dtype=tc.float32)\n",
    "outputs = tc.tensor(car_dataframe['price'].values, dtype=tc.float32)"
   ]
  },
  {
   "cell_type": "markdown",
   "metadata": {},
   "source": [
    "<ol type='a'>\n",
    "    <li>The input and the target tensors are</li>\n",
    "\n",
    "<ol>"
   ]
  },
  {
   "cell_type": "code",
   "execution_count": null,
   "metadata": {},
   "outputs": [],
   "source": [
    "print(inputs)"
   ]
  },
  {
   "cell_type": "code",
   "execution_count": null,
   "metadata": {},
   "outputs": [],
   "source": [
    "print(outputs)"
   ]
  },
  {
   "cell_type": "markdown",
   "metadata": {},
   "source": [
    "b. "
   ]
  },
  {
   "cell_type": "code",
   "execution_count": null,
   "metadata": {},
   "outputs": [],
   "source": [
    "def generate_random_params(num_params):\n",
    "    \"\"\"\n",
    "    Generate random parameters with the specified number of parameters.\n",
    "    Args:\n",
    "    num_params (int): The number of parameters to generate.\n",
    "    Returns:\n",
    "    torch.Tensor: Randomly generated parameters with the specified number of parameters.\n",
    "    \"\"\"\n",
    "    weights = tc.rand((num_params, 1), requires_grad=True)\n",
    "    return weights"
   ]
  },
  {
   "cell_type": "code",
   "execution_count": null,
   "metadata": {},
   "outputs": [],
   "source": [
    "input_size = inputs.shape\n",
    "input_size"
   ]
  },
  {
   "cell_type": "code",
   "execution_count": null,
   "metadata": {},
   "outputs": [],
   "source": [
    "num_params = inputs.shape[1]\n",
    "random_params = generate_random_params(num_params)\n",
    "print(\"Random parameters =  \", random_params)"
   ]
  },
  {
   "cell_type": "markdown",
   "metadata": {},
   "source": [
    "c."
   ]
  },
  {
   "cell_type": "code",
   "execution_count": null,
   "metadata": {},
   "outputs": [],
   "source": [
    "def linear_regression(inputs, weights, bias):\n",
    "    \"\"\"\n",
    "    Perform linear regression on the given inputs using the provided weights and bias.\n",
    "\n",
    "    Args:\n",
    "    inputs (tensor): The input tensor for the regression.\n",
    "    weights (tensor): The weights tensor for the regression.\n",
    "    bias (tensor): The bias tensor for the regression.\n",
    "\n",
    "    Returns:\n",
    "    tensor: The result of the linear regression.\n",
    "    \"\"\"\n",
    "    return tc.matmul(inputs, weights) + bias"
   ]
  },
  {
   "cell_type": "code",
   "execution_count": null,
   "metadata": {},
   "outputs": [],
   "source": [
    "def mean_squared_error(outputs, labels):\n",
    "    return tc.mean((outputs - labels)**2)"
   ]
  },
  {
   "cell_type": "code",
   "execution_count": null,
   "metadata": {},
   "outputs": [],
   "source": [
    "predicitons = linear_regression(inputs, random_params, 0)\n",
    "pd.DataFrame({'predictions': predicitons.view(-1).detach().numpy(), 'labels': outputs.view(-1).detach().numpy()})"
   ]
  },
  {
   "cell_type": "code",
   "execution_count": null,
   "metadata": {},
   "outputs": [],
   "source": [
    "squared_error = mean_squared_error(predicitons, outputs)\n",
    "print(\"Mean Squared Error =  \", squared_error.item())"
   ]
  },
  {
   "cell_type": "markdown",
   "metadata": {},
   "source": [
    "d. "
   ]
  },
  {
   "cell_type": "code",
   "execution_count": null,
   "metadata": {},
   "outputs": [],
   "source": [
    "def f(x):\n",
    "    \"\"\"Calculates the function f(x) = 2 * x^T * x\"\"\"\n",
    "    return 2 * tc.matmul(x.t(), x)\n",
    "\n",
    "# Compute the Jacobian-vector product of f \n",
    "G = tc.autograd.functional.jvp(f, (inputs[:5, :], ), (tc.rand_like(inputs[:5, :]), ))\n",
    "print(G)"
   ]
  },
  {
   "cell_type": "code",
   "execution_count": null,
   "metadata": {},
   "outputs": [],
   "source": []
  }
 ],
 "metadata": {
  "interpreter": {
   "hash": "4b24732e4668aa390fd76c8d8cc4066e0fe1b53639fd0c0adc42e9460dec1811"
  },
  "kernelspec": {
   "display_name": "Python 3.11.5 ('base')",
   "language": "python",
   "name": "python3"
  },
  "language_info": {
   "codemirror_mode": {
    "name": "ipython",
    "version": 3
   },
   "file_extension": ".py",
   "mimetype": "text/x-python",
   "name": "python",
   "nbconvert_exporter": "python",
   "pygments_lexer": "ipython3",
   "version": "3.11.5"
  },
  "orig_nbformat": 4
 },
 "nbformat": 4,
 "nbformat_minor": 2
}
