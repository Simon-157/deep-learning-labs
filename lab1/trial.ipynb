{
 "cells": [
  {
   "cell_type": "code",
   "execution_count": null,
   "metadata": {},
   "outputs": [],
   "source": [
    "years = car_dataframe['year'].to_numpy()\n",
    "miles = pd.to_numeric(car_dataframe['miles'].replace('[\\D,]','', regex=True ), errors='coerce')\n",
    "inputs_arr = np.array([years, miles], dtype='float32')\n",
    "inputs = tc.from_numpy(inputs_arr)\n",
    "outputs_arr = car_dataframe['price'].to_numpy()\n",
    "outputs = tc.from_numpy(outputs_arr)"
   ]
  }
 ],
 "metadata": {
  "language_info": {
   "name": "python"
  }
 },
 "nbformat": 4,
 "nbformat_minor": 2
}
